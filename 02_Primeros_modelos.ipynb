{
  "nbformat": 4,
  "nbformat_minor": 0,
  "metadata": {
    "colab": {
      "provenance": []
    },
    "kernelspec": {
      "name": "python3",
      "display_name": "Python 3"
    },
    "language_info": {
      "name": "python"
    }
  },
  "cells": [
    {
      "cell_type": "markdown",
      "source": [
        "# Descargar dataset procesado"
      ],
      "metadata": {
        "id": "r50EiCtEyf46"
      }
    },
    {
      "cell_type": "code",
      "source": [
        "!pip install gdown"
      ],
      "metadata": {
        "id": "hQV9b7D72NYw"
      },
      "execution_count": null,
      "outputs": []
    },
    {
      "cell_type": "code",
      "source": [
        "import pandas as pd\n",
        "import numpy as np\n",
        "import gdown"
      ],
      "metadata": {
        "id": "g7rLfG9wymlb"
      },
      "execution_count": null,
      "outputs": []
    },
    {
      "cell_type": "code",
      "execution_count": null,
      "metadata": {
        "id": "CXdhSCPlyRte"
      },
      "outputs": [],
      "source": [
        "url = 'https://drive.google.com/uc?id=10AA2zNBdXltzZ4syn39SA7qLXsoWLAV7'\n",
        "output = 'fifa-19-cleaned-dataset.csv'\n",
        "gdown.download(url, output, quiet=False)\n",
        "\n",
        "df = pd.read_csv(output)"
      ]
    },
    {
      "cell_type": "code",
      "source": [
        "pd.set_option('display.max_columns', None)"
      ],
      "metadata": {
        "id": "ESRnld76I6AG"
      },
      "execution_count": null,
      "outputs": []
    },
    {
      "cell_type": "code",
      "source": [
        "df"
      ],
      "metadata": {
        "id": "mJ6-5ijl0PXU"
      },
      "execution_count": null,
      "outputs": []
    },
    {
      "cell_type": "markdown",
      "source": [
        "# Prepara valores para los Tests"
      ],
      "metadata": {
        "id": "4EW1YK92Kkls"
      }
    },
    {
      "cell_type": "code",
      "source": [
        "X = df.drop('Value', axis=1)  # características\n",
        "y = df['Value']  # variable a predecir\n"
      ],
      "metadata": {
        "id": "N0c0r5lk3gsT"
      },
      "execution_count": null,
      "outputs": []
    },
    {
      "cell_type": "code",
      "source": [
        "from sklearn.metrics import mean_squared_error\n",
        "from sklearn.model_selection import train_test_split\n",
        "from sklearn.metrics import mean_absolute_error\n",
        "X_train, X_test, y_train, y_test = train_test_split(X, y, test_size=0.2, random_state=42)\n"
      ],
      "metadata": {
        "id": "DlTCXjGc3hNW"
      },
      "execution_count": null,
      "outputs": []
    },
    {
      "cell_type": "markdown",
      "source": [
        "# Regresión Lineal"
      ],
      "metadata": {
        "id": "Lw80l_R-diBH"
      }
    },
    {
      "cell_type": "code",
      "source": [
        "from sklearn.linear_model import LinearRegression\n",
        "\n",
        "lr = LinearRegression()\n",
        "lr.fit(X_train, y_train)\n",
        "\n",
        "y_pred = lr.predict(X_test)\n",
        "mae_lr = mean_absolute_error(y_test, y_pred)\n",
        "print(f\"Error absoluto medio (Regresión Lineal): {mae_lr:.4f}\")"
      ],
      "metadata": {
        "id": "Obm1p1UO3idZ"
      },
      "execution_count": null,
      "outputs": []
    },
    {
      "cell_type": "markdown",
      "source": [
        "# Polinómica"
      ],
      "metadata": {
        "id": "qVFN-oeddYA4"
      }
    },
    {
      "cell_type": "code",
      "source": [
        "from sklearn.preprocessing import PolynomialFeatures\n",
        "\n",
        "# Transforma las características a un grado polinomial (por ejemplo, 2)\n",
        "poly = PolynomialFeatures(degree=2)\n",
        "X_poly_train = poly.fit_transform(X_train)\n",
        "X_poly_test = poly.transform(X_test)\n",
        "\n",
        "lr_poly = LinearRegression()\n",
        "lr_poly.fit(X_poly_train, y_train)\n",
        "\n",
        "y_pred_poly = lr_poly.predict(X_poly_test)\n",
        "mae_poly = mean_absolute_error(y_test, y_pred_poly)\n",
        "print(f\"Error absoluto medio (Regresión Polinomial): {mae_poly:.4f}\")"
      ],
      "metadata": {
        "id": "0SaTvnGP3sVm"
      },
      "execution_count": null,
      "outputs": []
    },
    {
      "cell_type": "markdown",
      "source": [
        "# Ridge"
      ],
      "metadata": {
        "id": "mM1qt83YK5uR"
      }
    },
    {
      "cell_type": "code",
      "source": [
        "from sklearn.linear_model import Ridge\n",
        "\n",
        "ridge = Ridge(alpha=1.0)\n",
        "ridge.fit(X_train, y_train)\n",
        "y_pred_ridge = ridge.predict(X_test)\n",
        "mae_ridge = mean_absolute_error(y_test, y_pred_ridge)\n",
        "print(f\"Error absoluto medio (Ridge): {mae_ridge:.4f}\")"
      ],
      "metadata": {
        "id": "4wLvmQUB3wIa"
      },
      "execution_count": null,
      "outputs": []
    },
    {
      "cell_type": "markdown",
      "source": [
        "# Lasso"
      ],
      "metadata": {
        "id": "mtc4j_hQLcIq"
      }
    },
    {
      "cell_type": "code",
      "source": [
        "from sklearn.linear_model import Lasso\n",
        "\n",
        "lasso = Lasso(alpha=1.0)\n",
        "lasso.fit(X_train, y_train)\n",
        "y_pred_lasso = lasso.predict(X_test)\n",
        "mae_lasso = mean_absolute_error(y_test, y_pred_lasso)\n",
        "print(f\"Error absoluto medio (Lasso): {mae_lasso:.4f}\")"
      ],
      "metadata": {
        "id": "rwEcA_XkLD9O"
      },
      "execution_count": null,
      "outputs": []
    },
    {
      "cell_type": "markdown",
      "source": [
        "# Elastic"
      ],
      "metadata": {
        "id": "xHx9GFBwLf9u"
      }
    },
    {
      "cell_type": "code",
      "source": [
        "from sklearn.linear_model import ElasticNet\n",
        "\n",
        "elastic = ElasticNet(alpha=1.0, l1_ratio=0.5)\n",
        "elastic.fit(X_train, y_train)\n",
        "y_pred_elastic = elastic.predict(X_test)\n",
        "mae_elastic = mean_absolute_error(y_test, y_pred_elastic)\n",
        "print(f\"Error absoluto medio (ElasticNet): {mae_elastic:.4f}\")"
      ],
      "metadata": {
        "id": "0AL_BVbCLOla"
      },
      "execution_count": null,
      "outputs": []
    },
    {
      "cell_type": "markdown",
      "source": [
        "# Decision Tree"
      ],
      "metadata": {
        "id": "moT2ui_7ek0l"
      }
    },
    {
      "cell_type": "code",
      "source": [
        "from sklearn.tree import DecisionTreeRegressor\n",
        "\n",
        "# Árboles de Decisión\n",
        "dt = DecisionTreeRegressor()\n",
        "dt.fit(X_train, y_train)\n",
        "y_pred_dt = dt.predict(X_test)\n",
        "mae_dt = mean_absolute_error(y_test, y_pred_dt)\n",
        "print(f\"Error absoluto medio (Árboles de Decisión): {mae_dt:.4f}\")"
      ],
      "metadata": {
        "id": "QGJe7ks9K00-"
      },
      "execution_count": null,
      "outputs": []
    },
    {
      "cell_type": "markdown",
      "source": [
        "# Random Forest"
      ],
      "metadata": {
        "id": "uXK9JtCtL1H4"
      }
    },
    {
      "cell_type": "code",
      "source": [
        "from sklearn.ensemble import RandomForestRegressor\n",
        "\n",
        "# Bosques Aleatorios\n",
        "rf = RandomForestRegressor(n_estimators=100)\n",
        "rf.fit(X_train, y_train)\n",
        "y_pred_rf = rf.predict(X_test)\n",
        "mae_rf = mean_absolute_error(y_test, y_pred_rf)\n",
        "print(f\"Error absoluto medio (Bosques Aleatorios): {mae_rf:.4f}\")"
      ],
      "metadata": {
        "id": "s0KwIC8nLrfV"
      },
      "execution_count": null,
      "outputs": []
    },
    {
      "cell_type": "markdown",
      "source": [
        "# SVR\n",
        "\n",
        "El SVR estuvo una hora ejecutando y tuve que cancelarlo"
      ],
      "metadata": {
        "id": "nXq5rv8DcyEL"
      }
    },
    {
      "cell_type": "markdown",
      "source": [
        "# Comparación de MAE (Mean Absolute Error)"
      ],
      "metadata": {
        "id": "ofExE25fL7Ex"
      }
    },
    {
      "cell_type": "code",
      "source": [
        "def compare_mae(mae_lr, mae_poly, mae_ridge, mae_lasso, mae_elastic, mae_dt, mae_rf):\n",
        "    # Diccionario con los nombres de los modelos y sus respectivos MAE\n",
        "    mae_values = {\n",
        "        'Linear Regression': mae_lr,\n",
        "        'Polynomial Regression': mae_poly,\n",
        "        'Ridge': mae_ridge,\n",
        "        'Lasso': mae_lasso,\n",
        "        'ElasticNet': mae_elastic,\n",
        "        'Decision Tree': mae_dt,\n",
        "        'Random Forest': mae_rf\n",
        "    }\n",
        "\n",
        "    # Ordenar el diccionario basado en el MAE\n",
        "    sorted_mae = dict(sorted(mae_values.items(), key=lambda item: item[1]))\n",
        "\n",
        "    # Imprimir el resumen\n",
        "    print(\"Resumen de MAE:\")\n",
        "    for model, mae in sorted_mae.items():\n",
        "        print(f\"{model}: {mae:.4f}\")\n",
        "\n",
        "    # Obtener y mostrar el mejor modelo\n",
        "    best_model = next(iter(sorted_mae))\n",
        "    print(f\"\\nEl mejor modelo es '{best_model}' con un MAE de {sorted_mae[best_model]:.4f}\")"
      ],
      "metadata": {
        "id": "f-yq8az7ixe1"
      },
      "execution_count": null,
      "outputs": []
    },
    {
      "cell_type": "code",
      "source": [
        "compare_mae(mae_lr, mae_poly, mae_ridge, mae_lasso, mae_elastic, mae_dt, mae_rf)"
      ],
      "metadata": {
        "id": "siy-Kxf-MFHc"
      },
      "execution_count": null,
      "outputs": []
    },
    {
      "cell_type": "markdown",
      "source": [
        "# Porcentage de las predicciones dentro de un margen\n",
        "\n",
        "En la primera entrega establecimos que para aceptar nuestro modelo al menos el 85% de las predicciones debe caer dentro de un margen de error aceptable, es decir, un rango del 10% respecto al valor real"
      ],
      "metadata": {
        "id": "_F2e_GQgMJRF"
      }
    },
    {
      "cell_type": "code",
      "source": [
        "def percentage_within_margin(y_true, y_pred, margin):\n",
        "    # Calcular el valor absoluto de la diferencia entre predicción y valor real\n",
        "    absolute_difference = np.abs(y_true - y_pred)\n",
        "\n",
        "    # Encuentra cuáles diferencias son menores o iguales al 10% del valor real\n",
        "    within_margin = absolute_difference <= margin * y_true\n",
        "\n",
        "    # Calcular el porcentaje de predicciones dentro del margen de error\n",
        "    percentage = np.mean(within_margin) * 100\n",
        "    return percentage\n"
      ],
      "metadata": {
        "id": "xgxK6iG3H-X7"
      },
      "execution_count": null,
      "outputs": []
    },
    {
      "cell_type": "code",
      "source": [
        "y_pred_values = {\n",
        "  'Linear Regression': y_pred,\n",
        "  'Polynomial Regression': y_pred_poly,\n",
        "  'Ridge': y_pred_ridge,\n",
        "  'Lasso': y_pred_lasso,\n",
        "  'ElasticNet': y_pred_elastic,\n",
        "  'Decision Tree': y_pred_dt,\n",
        "  'Random Forest': y_pred_rf\n",
        "}\n",
        "\n",
        "margin = 0.1\n",
        "for model_name, y_pre in y_pred_values.items():\n",
        "  percentage = percentage_within_margin(y_test, y_pre, margin)\n",
        "  print(f\"Porcentaje de predicciones dentro del margen de error del {margin*100}% ({model_name}): {percentage:.2f}%\")"
      ],
      "metadata": {
        "id": "FlnOpKAEIyFI"
      },
      "execution_count": null,
      "outputs": []
    }
  ]
}